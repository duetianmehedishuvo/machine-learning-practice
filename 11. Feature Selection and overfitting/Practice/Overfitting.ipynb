{
 "cells": [
  {
   "cell_type": "code",
   "execution_count": 1,
   "id": "fbc76e1e",
   "metadata": {},
   "outputs": [],
   "source": [
    "import pandas as pd\n",
    "from sklearn.datasets import make_classification"
   ]
  },
  {
   "cell_type": "code",
   "execution_count": 2,
   "id": "80a08749",
   "metadata": {},
   "outputs": [],
   "source": [
    "x,y=make_classification(n_samples=1000,n_features=30)"
   ]
  },
  {
   "cell_type": "code",
   "execution_count": 4,
   "id": "f6fb0848",
   "metadata": {},
   "outputs": [],
   "source": [
    "x=pd.DataFrame(x)\n",
    "y=pd.DataFrame(y)"
   ]
  },
  {
   "cell_type": "code",
   "execution_count": 6,
   "id": "993890a1",
   "metadata": {},
   "outputs": [
    {
     "data": {
      "text/html": [
       "<div>\n",
       "<style scoped>\n",
       "    .dataframe tbody tr th:only-of-type {\n",
       "        vertical-align: middle;\n",
       "    }\n",
       "\n",
       "    .dataframe tbody tr th {\n",
       "        vertical-align: top;\n",
       "    }\n",
       "\n",
       "    .dataframe thead th {\n",
       "        text-align: right;\n",
       "    }\n",
       "</style>\n",
       "<table border=\"1\" class=\"dataframe\">\n",
       "  <thead>\n",
       "    <tr style=\"text-align: right;\">\n",
       "      <th></th>\n",
       "      <th>0</th>\n",
       "      <th>1</th>\n",
       "      <th>2</th>\n",
       "      <th>3</th>\n",
       "      <th>4</th>\n",
       "      <th>5</th>\n",
       "      <th>6</th>\n",
       "      <th>7</th>\n",
       "      <th>8</th>\n",
       "      <th>9</th>\n",
       "      <th>...</th>\n",
       "      <th>20</th>\n",
       "      <th>21</th>\n",
       "      <th>22</th>\n",
       "      <th>23</th>\n",
       "      <th>24</th>\n",
       "      <th>25</th>\n",
       "      <th>26</th>\n",
       "      <th>27</th>\n",
       "      <th>28</th>\n",
       "      <th>29</th>\n",
       "    </tr>\n",
       "  </thead>\n",
       "  <tbody>\n",
       "    <tr>\n",
       "      <th>0</th>\n",
       "      <td>1.395319</td>\n",
       "      <td>0.782630</td>\n",
       "      <td>0.607723</td>\n",
       "      <td>-0.850392</td>\n",
       "      <td>-0.720787</td>\n",
       "      <td>-0.913585</td>\n",
       "      <td>1.517905</td>\n",
       "      <td>-0.176624</td>\n",
       "      <td>-2.045757</td>\n",
       "      <td>-0.653225</td>\n",
       "      <td>...</td>\n",
       "      <td>0.891398</td>\n",
       "      <td>2.242907</td>\n",
       "      <td>-1.796574</td>\n",
       "      <td>-0.548076</td>\n",
       "      <td>-0.174369</td>\n",
       "      <td>0.750864</td>\n",
       "      <td>1.463615</td>\n",
       "      <td>0.815527</td>\n",
       "      <td>1.798843</td>\n",
       "      <td>-0.051743</td>\n",
       "    </tr>\n",
       "    <tr>\n",
       "      <th>1</th>\n",
       "      <td>-0.016452</td>\n",
       "      <td>-0.633305</td>\n",
       "      <td>0.017590</td>\n",
       "      <td>0.734375</td>\n",
       "      <td>-1.304230</td>\n",
       "      <td>0.701790</td>\n",
       "      <td>-0.509828</td>\n",
       "      <td>0.031915</td>\n",
       "      <td>1.523510</td>\n",
       "      <td>1.249985</td>\n",
       "      <td>...</td>\n",
       "      <td>-1.133368</td>\n",
       "      <td>0.238648</td>\n",
       "      <td>-0.717032</td>\n",
       "      <td>-3.051619</td>\n",
       "      <td>-0.464059</td>\n",
       "      <td>0.364241</td>\n",
       "      <td>0.137006</td>\n",
       "      <td>0.204011</td>\n",
       "      <td>0.214012</td>\n",
       "      <td>0.182220</td>\n",
       "    </tr>\n",
       "    <tr>\n",
       "      <th>2</th>\n",
       "      <td>-0.021566</td>\n",
       "      <td>0.159658</td>\n",
       "      <td>-1.583659</td>\n",
       "      <td>0.312068</td>\n",
       "      <td>1.025441</td>\n",
       "      <td>-0.903706</td>\n",
       "      <td>1.846688</td>\n",
       "      <td>0.344625</td>\n",
       "      <td>-1.705598</td>\n",
       "      <td>0.348389</td>\n",
       "      <td>...</td>\n",
       "      <td>-0.612141</td>\n",
       "      <td>-1.493301</td>\n",
       "      <td>-0.669025</td>\n",
       "      <td>1.271787</td>\n",
       "      <td>1.896364</td>\n",
       "      <td>2.862837</td>\n",
       "      <td>0.027710</td>\n",
       "      <td>-0.683807</td>\n",
       "      <td>0.919643</td>\n",
       "      <td>0.639229</td>\n",
       "    </tr>\n",
       "    <tr>\n",
       "      <th>3</th>\n",
       "      <td>0.087747</td>\n",
       "      <td>1.240304</td>\n",
       "      <td>0.289923</td>\n",
       "      <td>-1.527928</td>\n",
       "      <td>-0.863750</td>\n",
       "      <td>0.100883</td>\n",
       "      <td>1.051877</td>\n",
       "      <td>0.901134</td>\n",
       "      <td>0.143483</td>\n",
       "      <td>-1.324201</td>\n",
       "      <td>...</td>\n",
       "      <td>1.679594</td>\n",
       "      <td>0.699684</td>\n",
       "      <td>-0.146869</td>\n",
       "      <td>-0.198199</td>\n",
       "      <td>-0.872693</td>\n",
       "      <td>-0.247597</td>\n",
       "      <td>0.603416</td>\n",
       "      <td>2.180754</td>\n",
       "      <td>-0.716415</td>\n",
       "      <td>-2.335585</td>\n",
       "    </tr>\n",
       "    <tr>\n",
       "      <th>4</th>\n",
       "      <td>0.119647</td>\n",
       "      <td>1.003220</td>\n",
       "      <td>0.143424</td>\n",
       "      <td>1.299500</td>\n",
       "      <td>0.393431</td>\n",
       "      <td>-1.048867</td>\n",
       "      <td>-0.522069</td>\n",
       "      <td>0.185332</td>\n",
       "      <td>0.247489</td>\n",
       "      <td>-0.736408</td>\n",
       "      <td>...</td>\n",
       "      <td>0.747676</td>\n",
       "      <td>0.631743</td>\n",
       "      <td>-1.860205</td>\n",
       "      <td>1.224910</td>\n",
       "      <td>-0.313897</td>\n",
       "      <td>0.331470</td>\n",
       "      <td>-0.129987</td>\n",
       "      <td>-0.304651</td>\n",
       "      <td>-0.553268</td>\n",
       "      <td>-1.390879</td>\n",
       "    </tr>\n",
       "  </tbody>\n",
       "</table>\n",
       "<p>5 rows × 30 columns</p>\n",
       "</div>"
      ],
      "text/plain": [
       "         0         1         2         3         4         5         6   \\\n",
       "0  1.395319  0.782630  0.607723 -0.850392 -0.720787 -0.913585  1.517905   \n",
       "1 -0.016452 -0.633305  0.017590  0.734375 -1.304230  0.701790 -0.509828   \n",
       "2 -0.021566  0.159658 -1.583659  0.312068  1.025441 -0.903706  1.846688   \n",
       "3  0.087747  1.240304  0.289923 -1.527928 -0.863750  0.100883  1.051877   \n",
       "4  0.119647  1.003220  0.143424  1.299500  0.393431 -1.048867 -0.522069   \n",
       "\n",
       "         7         8         9   ...        20        21        22        23  \\\n",
       "0 -0.176624 -2.045757 -0.653225  ...  0.891398  2.242907 -1.796574 -0.548076   \n",
       "1  0.031915  1.523510  1.249985  ... -1.133368  0.238648 -0.717032 -3.051619   \n",
       "2  0.344625 -1.705598  0.348389  ... -0.612141 -1.493301 -0.669025  1.271787   \n",
       "3  0.901134  0.143483 -1.324201  ...  1.679594  0.699684 -0.146869 -0.198199   \n",
       "4  0.185332  0.247489 -0.736408  ...  0.747676  0.631743 -1.860205  1.224910   \n",
       "\n",
       "         24        25        26        27        28        29  \n",
       "0 -0.174369  0.750864  1.463615  0.815527  1.798843 -0.051743  \n",
       "1 -0.464059  0.364241  0.137006  0.204011  0.214012  0.182220  \n",
       "2  1.896364  2.862837  0.027710 -0.683807  0.919643  0.639229  \n",
       "3 -0.872693 -0.247597  0.603416  2.180754 -0.716415 -2.335585  \n",
       "4 -0.313897  0.331470 -0.129987 -0.304651 -0.553268 -1.390879  \n",
       "\n",
       "[5 rows x 30 columns]"
      ]
     },
     "execution_count": 6,
     "metadata": {},
     "output_type": "execute_result"
    }
   ],
   "source": [
    "x.head()"
   ]
  },
  {
   "cell_type": "code",
   "execution_count": 7,
   "id": "9744beff",
   "metadata": {},
   "outputs": [
    {
     "data": {
      "text/html": [
       "<div>\n",
       "<style scoped>\n",
       "    .dataframe tbody tr th:only-of-type {\n",
       "        vertical-align: middle;\n",
       "    }\n",
       "\n",
       "    .dataframe tbody tr th {\n",
       "        vertical-align: top;\n",
       "    }\n",
       "\n",
       "    .dataframe thead th {\n",
       "        text-align: right;\n",
       "    }\n",
       "</style>\n",
       "<table border=\"1\" class=\"dataframe\">\n",
       "  <thead>\n",
       "    <tr style=\"text-align: right;\">\n",
       "      <th></th>\n",
       "      <th>0</th>\n",
       "    </tr>\n",
       "  </thead>\n",
       "  <tbody>\n",
       "    <tr>\n",
       "      <th>0</th>\n",
       "      <td>0</td>\n",
       "    </tr>\n",
       "    <tr>\n",
       "      <th>1</th>\n",
       "      <td>0</td>\n",
       "    </tr>\n",
       "    <tr>\n",
       "      <th>2</th>\n",
       "      <td>1</td>\n",
       "    </tr>\n",
       "    <tr>\n",
       "      <th>3</th>\n",
       "      <td>0</td>\n",
       "    </tr>\n",
       "    <tr>\n",
       "      <th>4</th>\n",
       "      <td>1</td>\n",
       "    </tr>\n",
       "  </tbody>\n",
       "</table>\n",
       "</div>"
      ],
      "text/plain": [
       "   0\n",
       "0  0\n",
       "1  0\n",
       "2  1\n",
       "3  0\n",
       "4  1"
      ]
     },
     "execution_count": 7,
     "metadata": {},
     "output_type": "execute_result"
    }
   ],
   "source": [
    "y.head()"
   ]
  },
  {
   "cell_type": "code",
   "execution_count": 10,
   "id": "128d328b",
   "metadata": {},
   "outputs": [],
   "source": [
    "from sklearn.model_selection import train_test_split"
   ]
  },
  {
   "cell_type": "code",
   "execution_count": 11,
   "id": "9d767e31",
   "metadata": {},
   "outputs": [],
   "source": [
    "xtrain,xtest,ytrain,ytest=train_test_split(x,y,test_size=.30,random_state=42)"
   ]
  },
  {
   "cell_type": "code",
   "execution_count": 12,
   "id": "f1fd5f6e",
   "metadata": {},
   "outputs": [
    {
     "data": {
      "text/plain": [
       "(700, 30)"
      ]
     },
     "execution_count": 12,
     "metadata": {},
     "output_type": "execute_result"
    }
   ],
   "source": [
    "xtrain.shape"
   ]
  },
  {
   "cell_type": "code",
   "execution_count": 13,
   "id": "005c675c",
   "metadata": {},
   "outputs": [],
   "source": [
    "from sklearn.tree import DecisionTreeClassifier"
   ]
  },
  {
   "cell_type": "code",
   "execution_count": 14,
   "id": "31038d19",
   "metadata": {},
   "outputs": [],
   "source": [
    "train_score=[]\n",
    "test_score=[]"
   ]
  },
  {
   "cell_type": "code",
   "execution_count": 15,
   "id": "652ed951",
   "metadata": {},
   "outputs": [],
   "source": [
    "max_depth=[n for n in range(1,30)]"
   ]
  },
  {
   "cell_type": "code",
   "execution_count": 20,
   "id": "e3fd8158",
   "metadata": {},
   "outputs": [
    {
     "name": "stdout",
     "output_type": "stream",
     "text": [
      "Depth 1 , Training Accuracy =0.951429 , Testing Accuracy =0.950000\n",
      "Depth 2 , Training Accuracy =0.961429 , Testing Accuracy =0.973333\n",
      "Depth 3 , Training Accuracy =0.968571 , Testing Accuracy =0.970000\n",
      "Depth 4 , Training Accuracy =0.974286 , Testing Accuracy =0.970000\n",
      "Depth 5 , Training Accuracy =0.978571 , Testing Accuracy =0.963333\n",
      "Depth 6 , Training Accuracy =0.982857 , Testing Accuracy =0.966667\n",
      "Depth 7 , Training Accuracy =0.985714 , Testing Accuracy =0.956667\n",
      "Depth 8 , Training Accuracy =0.988571 , Testing Accuracy =0.956667\n",
      "Depth 9 , Training Accuracy =0.992857 , Testing Accuracy =0.943333\n",
      "Depth 10 , Training Accuracy =0.994286 , Testing Accuracy =0.953333\n",
      "Depth 11 , Training Accuracy =0.995714 , Testing Accuracy =0.960000\n",
      "Depth 12 , Training Accuracy =0.997143 , Testing Accuracy =0.953333\n",
      "Depth 13 , Training Accuracy =0.998571 , Testing Accuracy =0.943333\n",
      "Depth 14 , Training Accuracy =1.000000 , Testing Accuracy =0.933333\n",
      "Depth 15 , Training Accuracy =1.000000 , Testing Accuracy =0.936667\n",
      "Depth 16 , Training Accuracy =1.000000 , Testing Accuracy =0.936667\n",
      "Depth 17 , Training Accuracy =1.000000 , Testing Accuracy =0.940000\n",
      "Depth 18 , Training Accuracy =1.000000 , Testing Accuracy =0.926667\n",
      "Depth 19 , Training Accuracy =1.000000 , Testing Accuracy =0.940000\n",
      "Depth 20 , Training Accuracy =1.000000 , Testing Accuracy =0.933333\n",
      "Depth 21 , Training Accuracy =1.000000 , Testing Accuracy =0.946667\n",
      "Depth 22 , Training Accuracy =1.000000 , Testing Accuracy =0.936667\n",
      "Depth 23 , Training Accuracy =1.000000 , Testing Accuracy =0.943333\n",
      "Depth 24 , Training Accuracy =1.000000 , Testing Accuracy =0.933333\n",
      "Depth 25 , Training Accuracy =1.000000 , Testing Accuracy =0.943333\n",
      "Depth 26 , Training Accuracy =1.000000 , Testing Accuracy =0.943333\n",
      "Depth 27 , Training Accuracy =1.000000 , Testing Accuracy =0.933333\n",
      "Depth 28 , Training Accuracy =1.000000 , Testing Accuracy =0.943333\n",
      "Depth 29 , Training Accuracy =1.000000 , Testing Accuracy =0.930000\n"
     ]
    }
   ],
   "source": [
    "for depth in max_depth:\n",
    "    clf=DecisionTreeClassifier(max_depth=depth)\n",
    "    clf.fit(xtrain,ytrain)\n",
    "    # Test Accuracy\n",
    "    test_accuracy=clf.score(xtest,ytest)\n",
    "    test_score.append(test_accuracy)\n",
    "    # Training Accuracy\n",
    "    train_accuracy=clf.score(xtrain,ytrain)\n",
    "    train_score.append(train_accuracy)\n",
    "    print('Depth %d , Training Accuracy =%f , Testing Accuracy =%f'%(depth,train_accuracy,test_accuracy))"
   ]
  },
  {
   "cell_type": "code",
   "execution_count": 35,
   "id": "1501e363",
   "metadata": {},
   "outputs": [
    {
     "data": {
      "text/plain": [
       "[0.9514285714285714,\n",
       " 0.9614285714285714,\n",
       " 0.9685714285714285,\n",
       " 0.9742857142857143,\n",
       " 0.9785714285714285,\n",
       " 0.9828571428571429,\n",
       " 0.9857142857142858,\n",
       " 0.9885714285714285,\n",
       " 0.9928571428571429,\n",
       " 0.9942857142857143,\n",
       " 0.9957142857142857,\n",
       " 0.9971428571428571,\n",
       " 0.9985714285714286,\n",
       " 1.0,\n",
       " 1.0,\n",
       " 1.0,\n",
       " 1.0,\n",
       " 1.0,\n",
       " 1.0,\n",
       " 1.0,\n",
       " 1.0,\n",
       " 1.0,\n",
       " 1.0,\n",
       " 1.0,\n",
       " 1.0,\n",
       " 1.0,\n",
       " 1.0,\n",
       " 1.0,\n",
       " 1.0]"
      ]
     },
     "execution_count": 35,
     "metadata": {},
     "output_type": "execute_result"
    }
   ],
   "source": [
    "train_score"
   ]
  },
  {
   "cell_type": "code",
   "execution_count": 21,
   "id": "759f0dec",
   "metadata": {},
   "outputs": [],
   "source": [
    "import matplotlib.pyplot as plt"
   ]
  },
  {
   "cell_type": "code",
   "execution_count": 22,
   "id": "b7fdf141",
   "metadata": {},
   "outputs": [
    {
     "data": {
      "text/plain": [
       "<Figure size 864x576 with 0 Axes>"
      ]
     },
     "execution_count": 22,
     "metadata": {},
     "output_type": "execute_result"
    },
    {
     "data": {
      "text/plain": [
       "<Figure size 864x576 with 0 Axes>"
      ]
     },
     "metadata": {},
     "output_type": "display_data"
    }
   ],
   "source": [
    "plt.figure(figsize=(12,8))"
   ]
  },
  {
   "cell_type": "code",
   "execution_count": 41,
   "id": "1c5af1fd",
   "metadata": {},
   "outputs": [
    {
     "data": {
      "text/plain": [
       "<matplotlib.legend.Legend at 0x287fa403880>"
      ]
     },
     "execution_count": 41,
     "metadata": {},
     "output_type": "execute_result"
    },
    {
     "data": {
      "image/png": "[encoded data removed]",
      "text/plain": [
       "<Figure size 432x288 with 1 Axes>"
      ]
     },
     "metadata": {
      "needs_background": "light"
     },
     "output_type": "display_data"
    }
   ],
   "source": [
    "plt.plot(max_depth,train_score,'-o',label=('Training Scores'))\n",
    "plt.legend()"
   ]
  },
  {
   "cell_type": "code",
   "execution_count": null,
   "id": "d44888ae",
   "metadata": {},
   "outputs": [],
   "source": []
  }
 ],
 "metadata": {
  "kernelspec": {
   "display_name": "Python 3 (ipykernel)",
   "language": "python",
   "name": "python3"
  },
  "language_info": {
   "codemirror_mode": {
    "name": "ipython",
    "version": 3
   },
   "file_extension": ".py",
   "mimetype": "text/x-python",
   "name": "python",
   "nbconvert_exporter": "python",
   "pygments_lexer": "ipython3",
   "version": "3.10.4"
  }
 },
 "nbformat": 4,
 "nbformat_minor": 5
}

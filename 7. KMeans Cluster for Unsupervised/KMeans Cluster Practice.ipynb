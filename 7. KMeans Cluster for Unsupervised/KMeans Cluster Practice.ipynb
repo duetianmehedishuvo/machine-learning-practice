{
 "cells": [
  {
   "cell_type": "code",
   "execution_count": 1,
   "id": "5a9fe42b",
   "metadata": {},
   "outputs": [],
   "source": [
    "import numpy as np\n",
    "import pandas as pd\n",
    "import matplotlib.pyplot as plt\n",
    "import seaborn as sns"
   ]
  },
  {
   "cell_type": "code",
   "execution_count": 2,
   "id": "dd45ff4f",
   "metadata": {},
   "outputs": [],
   "source": [
    "df=pd.read_csv(\"mall customers.csv\")"
   ]
  },
  {
   "cell_type": "code",
   "execution_count": 3,
   "id": "eab93392",
   "metadata": {},
   "outputs": [
    {
     "data": {
      "text/html": [
       "<div>\n",
       "<style scoped>\n",
       "    .dataframe tbody tr th:only-of-type {\n",
       "        vertical-align: middle;\n",
       "    }\n",
       "\n",
       "    .dataframe tbody tr th {\n",
       "        vertical-align: top;\n",
       "    }\n",
       "\n",
       "    .dataframe thead th {\n",
       "        text-align: right;\n",
       "    }\n",
       "</style>\n",
       "<table border=\"1\" class=\"dataframe\">\n",
       "  <thead>\n",
       "    <tr style=\"text-align: right;\">\n",
       "      <th></th>\n",
       "      <th>CustomerID</th>\n",
       "      <th>Gender</th>\n",
       "      <th>Age</th>\n",
       "      <th>Annual Income (k$)</th>\n",
       "      <th>Spending Score (1-100)</th>\n",
       "    </tr>\n",
       "  </thead>\n",
       "  <tbody>\n",
       "    <tr>\n",
       "      <th>0</th>\n",
       "      <td>1</td>\n",
       "      <td>Male</td>\n",
       "      <td>19</td>\n",
       "      <td>15</td>\n",
       "      <td>39</td>\n",
       "    </tr>\n",
       "    <tr>\n",
       "      <th>1</th>\n",
       "      <td>2</td>\n",
       "      <td>Male</td>\n",
       "      <td>21</td>\n",
       "      <td>15</td>\n",
       "      <td>81</td>\n",
       "    </tr>\n",
       "    <tr>\n",
       "      <th>2</th>\n",
       "      <td>3</td>\n",
       "      <td>Female</td>\n",
       "      <td>20</td>\n",
       "      <td>16</td>\n",
       "      <td>6</td>\n",
       "    </tr>\n",
       "    <tr>\n",
       "      <th>3</th>\n",
       "      <td>4</td>\n",
       "      <td>Female</td>\n",
       "      <td>23</td>\n",
       "      <td>16</td>\n",
       "      <td>77</td>\n",
       "    </tr>\n",
       "    <tr>\n",
       "      <th>4</th>\n",
       "      <td>5</td>\n",
       "      <td>Female</td>\n",
       "      <td>31</td>\n",
       "      <td>17</td>\n",
       "      <td>40</td>\n",
       "    </tr>\n",
       "  </tbody>\n",
       "</table>\n",
       "</div>"
      ],
      "text/plain": [
       "   CustomerID  Gender  Age  Annual Income (k$)  Spending Score (1-100)\n",
       "0           1    Male   19                  15                      39\n",
       "1           2    Male   21                  15                      81\n",
       "2           3  Female   20                  16                       6\n",
       "3           4  Female   23                  16                      77\n",
       "4           5  Female   31                  17                      40"
      ]
     },
     "execution_count": 3,
     "metadata": {},
     "output_type": "execute_result"
    }
   ],
   "source": [
    "df.head()"
   ]
  },
  {
   "cell_type": "code",
   "execution_count": 4,
   "id": "3fa8e539",
   "metadata": {},
   "outputs": [
    {
     "data": {
      "text/plain": [
       "(200, 5)"
      ]
     },
     "execution_count": 4,
     "metadata": {},
     "output_type": "execute_result"
    }
   ],
   "source": [
    "df.shape"
   ]
  },
  {
   "cell_type": "code",
   "execution_count": 5,
   "id": "eba623f5",
   "metadata": {},
   "outputs": [],
   "source": [
    "df.rename(columns={\"Annual Income (k$)\":\"income\",\"Spending Score (1-100)\":\"score\"},inplace=True)"
   ]
  },
  {
   "cell_type": "code",
   "execution_count": 6,
   "id": "0429fe1b",
   "metadata": {},
   "outputs": [
    {
     "data": {
      "text/html": [
       "<div>\n",
       "<style scoped>\n",
       "    .dataframe tbody tr th:only-of-type {\n",
       "        vertical-align: middle;\n",
       "    }\n",
       "\n",
       "    .dataframe tbody tr th {\n",
       "        vertical-align: top;\n",
       "    }\n",
       "\n",
       "    .dataframe thead th {\n",
       "        text-align: right;\n",
       "    }\n",
       "</style>\n",
       "<table border=\"1\" class=\"dataframe\">\n",
       "  <thead>\n",
       "    <tr style=\"text-align: right;\">\n",
       "      <th></th>\n",
       "      <th>CustomerID</th>\n",
       "      <th>Gender</th>\n",
       "      <th>Age</th>\n",
       "      <th>income</th>\n",
       "      <th>score</th>\n",
       "    </tr>\n",
       "  </thead>\n",
       "  <tbody>\n",
       "    <tr>\n",
       "      <th>0</th>\n",
       "      <td>1</td>\n",
       "      <td>Male</td>\n",
       "      <td>19</td>\n",
       "      <td>15</td>\n",
       "      <td>39</td>\n",
       "    </tr>\n",
       "    <tr>\n",
       "      <th>1</th>\n",
       "      <td>2</td>\n",
       "      <td>Male</td>\n",
       "      <td>21</td>\n",
       "      <td>15</td>\n",
       "      <td>81</td>\n",
       "    </tr>\n",
       "    <tr>\n",
       "      <th>2</th>\n",
       "      <td>3</td>\n",
       "      <td>Female</td>\n",
       "      <td>20</td>\n",
       "      <td>16</td>\n",
       "      <td>6</td>\n",
       "    </tr>\n",
       "    <tr>\n",
       "      <th>3</th>\n",
       "      <td>4</td>\n",
       "      <td>Female</td>\n",
       "      <td>23</td>\n",
       "      <td>16</td>\n",
       "      <td>77</td>\n",
       "    </tr>\n",
       "    <tr>\n",
       "      <th>4</th>\n",
       "      <td>5</td>\n",
       "      <td>Female</td>\n",
       "      <td>31</td>\n",
       "      <td>17</td>\n",
       "      <td>40</td>\n",
       "    </tr>\n",
       "  </tbody>\n",
       "</table>\n",
       "</div>"
      ],
      "text/plain": [
       "   CustomerID  Gender  Age  income  score\n",
       "0           1    Male   19      15     39\n",
       "1           2    Male   21      15     81\n",
       "2           3  Female   20      16      6\n",
       "3           4  Female   23      16     77\n",
       "4           5  Female   31      17     40"
      ]
     },
     "execution_count": 6,
     "metadata": {},
     "output_type": "execute_result"
    }
   ],
   "source": [
    "df.head()"
   ]
  },
  {
   "cell_type": "code",
   "execution_count": 7,
   "id": "796fb5d4",
   "metadata": {},
   "outputs": [],
   "source": [
    "df.drop('CustomerID',axis=1,inplace=True)"
   ]
  },
  {
   "cell_type": "code",
   "execution_count": 8,
   "id": "595ccf3d",
   "metadata": {},
   "outputs": [
    {
     "data": {
      "text/html": [
       "<div>\n",
       "<style scoped>\n",
       "    .dataframe tbody tr th:only-of-type {\n",
       "        vertical-align: middle;\n",
       "    }\n",
       "\n",
       "    .dataframe tbody tr th {\n",
       "        vertical-align: top;\n",
       "    }\n",
       "\n",
       "    .dataframe thead th {\n",
       "        text-align: right;\n",
       "    }\n",
       "</style>\n",
       "<table border=\"1\" class=\"dataframe\">\n",
       "  <thead>\n",
       "    <tr style=\"text-align: right;\">\n",
       "      <th></th>\n",
       "      <th>Gender</th>\n",
       "      <th>Age</th>\n",
       "      <th>income</th>\n",
       "      <th>score</th>\n",
       "    </tr>\n",
       "  </thead>\n",
       "  <tbody>\n",
       "    <tr>\n",
       "      <th>0</th>\n",
       "      <td>Male</td>\n",
       "      <td>19</td>\n",
       "      <td>15</td>\n",
       "      <td>39</td>\n",
       "    </tr>\n",
       "    <tr>\n",
       "      <th>1</th>\n",
       "      <td>Male</td>\n",
       "      <td>21</td>\n",
       "      <td>15</td>\n",
       "      <td>81</td>\n",
       "    </tr>\n",
       "    <tr>\n",
       "      <th>2</th>\n",
       "      <td>Female</td>\n",
       "      <td>20</td>\n",
       "      <td>16</td>\n",
       "      <td>6</td>\n",
       "    </tr>\n",
       "    <tr>\n",
       "      <th>3</th>\n",
       "      <td>Female</td>\n",
       "      <td>23</td>\n",
       "      <td>16</td>\n",
       "      <td>77</td>\n",
       "    </tr>\n",
       "    <tr>\n",
       "      <th>4</th>\n",
       "      <td>Female</td>\n",
       "      <td>31</td>\n",
       "      <td>17</td>\n",
       "      <td>40</td>\n",
       "    </tr>\n",
       "  </tbody>\n",
       "</table>\n",
       "</div>"
      ],
      "text/plain": [
       "   Gender  Age  income  score\n",
       "0    Male   19      15     39\n",
       "1    Male   21      15     81\n",
       "2  Female   20      16      6\n",
       "3  Female   23      16     77\n",
       "4  Female   31      17     40"
      ]
     },
     "execution_count": 8,
     "metadata": {},
     "output_type": "execute_result"
    }
   ],
   "source": [
    "df.head()"
   ]
  },
  {
   "cell_type": "code",
   "execution_count": 9,
   "id": "799296a0",
   "metadata": {},
   "outputs": [],
   "source": [
    "# Using Encoding On Gender"
   ]
  },
  {
   "cell_type": "code",
   "execution_count": 10,
   "id": "01102076",
   "metadata": {},
   "outputs": [],
   "source": [
    "from sklearn.preprocessing import LabelEncoder"
   ]
  },
  {
   "cell_type": "code",
   "execution_count": 11,
   "id": "30cb4468",
   "metadata": {},
   "outputs": [],
   "source": [
    "le=LabelEncoder()"
   ]
  },
  {
   "cell_type": "code",
   "execution_count": 12,
   "id": "766b3daa",
   "metadata": {},
   "outputs": [],
   "source": [
    "df.Gender=le.fit_transform(df.Gender)"
   ]
  },
  {
   "cell_type": "code",
   "execution_count": 13,
   "id": "2cbec045",
   "metadata": {},
   "outputs": [
    {
     "data": {
      "text/html": [
       "<div>\n",
       "<style scoped>\n",
       "    .dataframe tbody tr th:only-of-type {\n",
       "        vertical-align: middle;\n",
       "    }\n",
       "\n",
       "    .dataframe tbody tr th {\n",
       "        vertical-align: top;\n",
       "    }\n",
       "\n",
       "    .dataframe thead th {\n",
       "        text-align: right;\n",
       "    }\n",
       "</style>\n",
       "<table border=\"1\" class=\"dataframe\">\n",
       "  <thead>\n",
       "    <tr style=\"text-align: right;\">\n",
       "      <th></th>\n",
       "      <th>Gender</th>\n",
       "      <th>Age</th>\n",
       "      <th>income</th>\n",
       "      <th>score</th>\n",
       "    </tr>\n",
       "  </thead>\n",
       "  <tbody>\n",
       "    <tr>\n",
       "      <th>0</th>\n",
       "      <td>1</td>\n",
       "      <td>19</td>\n",
       "      <td>15</td>\n",
       "      <td>39</td>\n",
       "    </tr>\n",
       "    <tr>\n",
       "      <th>1</th>\n",
       "      <td>1</td>\n",
       "      <td>21</td>\n",
       "      <td>15</td>\n",
       "      <td>81</td>\n",
       "    </tr>\n",
       "    <tr>\n",
       "      <th>2</th>\n",
       "      <td>0</td>\n",
       "      <td>20</td>\n",
       "      <td>16</td>\n",
       "      <td>6</td>\n",
       "    </tr>\n",
       "    <tr>\n",
       "      <th>3</th>\n",
       "      <td>0</td>\n",
       "      <td>23</td>\n",
       "      <td>16</td>\n",
       "      <td>77</td>\n",
       "    </tr>\n",
       "    <tr>\n",
       "      <th>4</th>\n",
       "      <td>0</td>\n",
       "      <td>31</td>\n",
       "      <td>17</td>\n",
       "      <td>40</td>\n",
       "    </tr>\n",
       "  </tbody>\n",
       "</table>\n",
       "</div>"
      ],
      "text/plain": [
       "   Gender  Age  income  score\n",
       "0       1   19      15     39\n",
       "1       1   21      15     81\n",
       "2       0   20      16      6\n",
       "3       0   23      16     77\n",
       "4       0   31      17     40"
      ]
     },
     "execution_count": 13,
     "metadata": {},
     "output_type": "execute_result"
    }
   ],
   "source": [
    "df.head()"
   ]
  },
  {
   "cell_type": "markdown",
   "id": "c65fc537",
   "metadata": {},
   "source": [
    "# Data Visualization"
   ]
  },
  {
   "cell_type": "code",
   "execution_count": 14,
   "id": "d1fb8144",
   "metadata": {},
   "outputs": [
    {
     "data": {
      "text/plain": [
       "<matplotlib.collections.PathCollection at 0x19623f6b550>"
      ]
     },
     "execution_count": 14,
     "metadata": {},
     "output_type": "execute_result"
    },
    {
     "data": {
      "image/png": "[encoded data removed]",
      "text/plain": [
       "<Figure size 432x288 with 1 Axes>"
      ]
     },
     "metadata": {
      "needs_background": "light"
     },
     "output_type": "display_data"
    }
   ],
   "source": [
    "plt.scatter(df['Age'],df['score'])"
   ]
  },
  {
   "cell_type": "code",
   "execution_count": 15,
   "id": "1a076ef1",
   "metadata": {},
   "outputs": [
    {
     "data": {
      "text/plain": [
       "<matplotlib.collections.PathCollection at 0x196260aff40>"
      ]
     },
     "execution_count": 15,
     "metadata": {},
     "output_type": "execute_result"
    },
    {
     "data": {
      "image/png": "[encoded data removed]",
      "text/plain": [
       "<Figure size 432x288 with 1 Axes>"
      ]
     },
     "metadata": {
      "needs_background": "light"
     },
     "output_type": "display_data"
    }
   ],
   "source": [
    "plt.scatter(df['Age'],df['income'])"
   ]
  },
  {
   "cell_type": "code",
   "execution_count": 16,
   "id": "ad1f82c1",
   "metadata": {},
   "outputs": [
    {
     "data": {
      "text/plain": [
       "<matplotlib.collections.PathCollection at 0x19626144460>"
      ]
     },
     "execution_count": 16,
     "metadata": {},
     "output_type": "execute_result"
    },
    {
     "data": {
      "image/png": "[encoded data removed]",
      "text/plain": [
       "<Figure size 432x288 with 1 Axes>"
      ]
     },
     "metadata": {
      "needs_background": "light"
     },
     "output_type": "display_data"
    }
   ],
   "source": [
    "plt.scatter(df['score'],df['income'])"
   ]
  },
  {
   "cell_type": "code",
   "execution_count": 17,
   "id": "f74dc95f",
   "metadata": {},
   "outputs": [
    {
     "data": {
      "text/plain": [
       "<seaborn.axisgrid.PairGrid at 0x19626146200>"
      ]
     },
     "execution_count": 17,
     "metadata": {},
     "output_type": "execute_result"
    },
    {
     "data": {
      "image/png": "[encoded data removed]",
      "text/plain": [
       "<Figure size 540x540 with 12 Axes>"
      ]
     },
     "metadata": {
      "needs_background": "light"
     },
     "output_type": "display_data"
    }
   ],
   "source": [
    "sns.pairplot(df[['Age','income','score']])"
   ]
  },
  {
   "cell_type": "markdown",
   "id": "ce4b8dca",
   "metadata": {},
   "source": [
    "# KMeans Cluster"
   ]
  },
  {
   "cell_type": "code",
   "execution_count": 18,
   "id": "7fb12e9f",
   "metadata": {},
   "outputs": [],
   "source": [
    "import sklearn.cluster as cluster"
   ]
  },
  {
   "cell_type": "code",
   "execution_count": 19,
   "id": "813ff719",
   "metadata": {},
   "outputs": [],
   "source": [
    "k_Means=cluster.KMeans()"
   ]
  },
  {
   "cell_type": "code",
   "execution_count": 20,
   "id": "9e50da4e",
   "metadata": {},
   "outputs": [
    {
     "data": {
      "text/html": [
       "<div>\n",
       "<style scoped>\n",
       "    .dataframe tbody tr th:only-of-type {\n",
       "        vertical-align: middle;\n",
       "    }\n",
       "\n",
       "    .dataframe tbody tr th {\n",
       "        vertical-align: top;\n",
       "    }\n",
       "\n",
       "    .dataframe thead th {\n",
       "        text-align: right;\n",
       "    }\n",
       "</style>\n",
       "<table border=\"1\" class=\"dataframe\">\n",
       "  <thead>\n",
       "    <tr style=\"text-align: right;\">\n",
       "      <th></th>\n",
       "      <th>Gender</th>\n",
       "      <th>Age</th>\n",
       "      <th>income</th>\n",
       "      <th>score</th>\n",
       "    </tr>\n",
       "  </thead>\n",
       "  <tbody>\n",
       "    <tr>\n",
       "      <th>0</th>\n",
       "      <td>1</td>\n",
       "      <td>19</td>\n",
       "      <td>15</td>\n",
       "      <td>39</td>\n",
       "    </tr>\n",
       "    <tr>\n",
       "      <th>1</th>\n",
       "      <td>1</td>\n",
       "      <td>21</td>\n",
       "      <td>15</td>\n",
       "      <td>81</td>\n",
       "    </tr>\n",
       "    <tr>\n",
       "      <th>2</th>\n",
       "      <td>0</td>\n",
       "      <td>20</td>\n",
       "      <td>16</td>\n",
       "      <td>6</td>\n",
       "    </tr>\n",
       "    <tr>\n",
       "      <th>3</th>\n",
       "      <td>0</td>\n",
       "      <td>23</td>\n",
       "      <td>16</td>\n",
       "      <td>77</td>\n",
       "    </tr>\n",
       "    <tr>\n",
       "      <th>4</th>\n",
       "      <td>0</td>\n",
       "      <td>31</td>\n",
       "      <td>17</td>\n",
       "      <td>40</td>\n",
       "    </tr>\n",
       "  </tbody>\n",
       "</table>\n",
       "</div>"
      ],
      "text/plain": [
       "   Gender  Age  income  score\n",
       "0       1   19      15     39\n",
       "1       1   21      15     81\n",
       "2       0   20      16      6\n",
       "3       0   23      16     77\n",
       "4       0   31      17     40"
      ]
     },
     "execution_count": 20,
     "metadata": {},
     "output_type": "execute_result"
    }
   ],
   "source": [
    "df.head()"
   ]
  },
  {
   "cell_type": "code",
   "execution_count": 21,
   "id": "830b6d54",
   "metadata": {},
   "outputs": [],
   "source": [
    "df['8_clusters']=k_Means.fit_predict(df[['score','income']])"
   ]
  },
  {
   "cell_type": "code",
   "execution_count": 22,
   "id": "e089ea90",
   "metadata": {},
   "outputs": [],
   "source": [
    "centers_8=k_Means.cluster_centers_"
   ]
  },
  {
   "cell_type": "code",
   "execution_count": 23,
   "id": "8003ee8a",
   "metadata": {},
   "outputs": [
    {
     "data": {
      "text/plain": [
       "array([[ 51.61363636,  47.65909091],\n",
       "       [ 82.17241379,  78.55172414],\n",
       "       [ 46.21428571,  63.95238095],\n",
       "       [ 20.22727273,  25.72727273],\n",
       "       [ 80.04761905,  25.0952381 ],\n",
       "       [ 22.        , 109.7       ],\n",
       "       [ 12.68181818,  80.18181818],\n",
       "       [ 82.        , 109.7       ]])"
      ]
     },
     "execution_count": 23,
     "metadata": {},
     "output_type": "execute_result"
    }
   ],
   "source": [
    "centers_8"
   ]
  },
  {
   "cell_type": "code",
   "execution_count": 24,
   "id": "674a9ac3",
   "metadata": {},
   "outputs": [],
   "source": [
    "df0=df[df['8_clusters']==0]\n",
    "df1=df[df['8_clusters']==1]\n",
    "df2=df[df['8_clusters']==2]\n",
    "df3=df[df['8_clusters']==3]\n",
    "df4=df[df['8_clusters']==4]\n",
    "df5=df[df['8_clusters']==5]\n",
    "df6=df[df['8_clusters']==6]\n",
    "df7=df[df['8_clusters']==7]"
   ]
  },
  {
   "cell_type": "code",
   "execution_count": 25,
   "id": "1ed2d5a2",
   "metadata": {},
   "outputs": [
    {
     "data": {
      "text/plain": [
       "(44, 5)"
      ]
     },
     "execution_count": 25,
     "metadata": {},
     "output_type": "execute_result"
    }
   ],
   "source": [
    "df0.shape"
   ]
  },
  {
   "cell_type": "code",
   "execution_count": 26,
   "id": "14d54a02",
   "metadata": {},
   "outputs": [
    {
     "data": {
      "text/plain": [
       "(29, 5)"
      ]
     },
     "execution_count": 26,
     "metadata": {},
     "output_type": "execute_result"
    }
   ],
   "source": [
    "df1.shape"
   ]
  },
  {
   "cell_type": "code",
   "execution_count": 27,
   "id": "b0e89cbf",
   "metadata": {},
   "outputs": [
    {
     "data": {
      "text/plain": [
       "<matplotlib.legend.Legend at 0x19628e1efe0>"
      ]
     },
     "execution_count": 27,
     "metadata": {},
     "output_type": "execute_result"
    },
    {
     "data": {
      "image/png": "[encoded data removed]",
      "text/plain": [
       "<Figure size 864x576 with 1 Axes>"
      ]
     },
     "metadata": {
      "needs_background": "light"
     },
     "output_type": "display_data"
    }
   ],
   "source": [
    "plt.figure(figsize=(12,8))\n",
    "plt.scatter(df0['score'],df0['income'],color='green',label='cluster 0')\n",
    "plt.scatter(df1['score'],df1['income'],color='blue',label='cluster 1')\n",
    "plt.scatter(df2['score'],df2['income'],color='orange',label='cluster 2')\n",
    "plt.scatter(df3['score'],df3['income'],color='red',label='cluster 3')\n",
    "plt.scatter(df4['score'],df4['income'],color='#8700f5',label='cluster 4')\n",
    "plt.scatter(df5['score'],df5['income'],color='cyan',label='cluster 5')\n",
    "plt.scatter(df6['score'],df6['income'],color='yellow',label='cluster 6')\n",
    "plt.scatter(df7['score'],df7['income'],color='pink',label='cluster 7')\n",
    "plt.scatter(centers_8[:,0],centers_8[:,1],color='black',marker='+')\n",
    "plt.legend()"
   ]
  },
  {
   "cell_type": "markdown",
   "id": "5427c7fb",
   "metadata": {},
   "source": [
    "# Select Optimal Number of Clusters\n",
    "## Elbow Method"
   ]
  },
  {
   "cell_type": "code",
   "execution_count": 28,
   "id": "6f41d145",
   "metadata": {},
   "outputs": [],
   "source": [
    "wcss=[]"
   ]
  },
  {
   "cell_type": "code",
   "execution_count": 29,
   "id": "110e4531",
   "metadata": {},
   "outputs": [],
   "source": [
    "cluster__=range(1,15)"
   ]
  },
  {
   "cell_type": "code",
   "execution_count": 30,
   "id": "1c6d585c",
   "metadata": {},
   "outputs": [
    {
     "data": {
      "text/html": [
       "<div>\n",
       "<style scoped>\n",
       "    .dataframe tbody tr th:only-of-type {\n",
       "        vertical-align: middle;\n",
       "    }\n",
       "\n",
       "    .dataframe tbody tr th {\n",
       "        vertical-align: top;\n",
       "    }\n",
       "\n",
       "    .dataframe thead th {\n",
       "        text-align: right;\n",
       "    }\n",
       "</style>\n",
       "<table border=\"1\" class=\"dataframe\">\n",
       "  <thead>\n",
       "    <tr style=\"text-align: right;\">\n",
       "      <th></th>\n",
       "      <th>Gender</th>\n",
       "      <th>Age</th>\n",
       "      <th>income</th>\n",
       "      <th>score</th>\n",
       "      <th>8_clusters</th>\n",
       "    </tr>\n",
       "  </thead>\n",
       "  <tbody>\n",
       "    <tr>\n",
       "      <th>0</th>\n",
       "      <td>1</td>\n",
       "      <td>19</td>\n",
       "      <td>15</td>\n",
       "      <td>39</td>\n",
       "      <td>3</td>\n",
       "    </tr>\n",
       "    <tr>\n",
       "      <th>1</th>\n",
       "      <td>1</td>\n",
       "      <td>21</td>\n",
       "      <td>15</td>\n",
       "      <td>81</td>\n",
       "      <td>4</td>\n",
       "    </tr>\n",
       "    <tr>\n",
       "      <th>2</th>\n",
       "      <td>0</td>\n",
       "      <td>20</td>\n",
       "      <td>16</td>\n",
       "      <td>6</td>\n",
       "      <td>3</td>\n",
       "    </tr>\n",
       "    <tr>\n",
       "      <th>3</th>\n",
       "      <td>0</td>\n",
       "      <td>23</td>\n",
       "      <td>16</td>\n",
       "      <td>77</td>\n",
       "      <td>4</td>\n",
       "    </tr>\n",
       "    <tr>\n",
       "      <th>4</th>\n",
       "      <td>0</td>\n",
       "      <td>31</td>\n",
       "      <td>17</td>\n",
       "      <td>40</td>\n",
       "      <td>3</td>\n",
       "    </tr>\n",
       "  </tbody>\n",
       "</table>\n",
       "</div>"
      ],
      "text/plain": [
       "   Gender  Age  income  score  8_clusters\n",
       "0       1   19      15     39           3\n",
       "1       1   21      15     81           4\n",
       "2       0   20      16      6           3\n",
       "3       0   23      16     77           4\n",
       "4       0   31      17     40           3"
      ]
     },
     "execution_count": 30,
     "metadata": {},
     "output_type": "execute_result"
    }
   ],
   "source": [
    "df.head()"
   ]
  },
  {
   "cell_type": "code",
   "execution_count": 31,
   "id": "63ad7022",
   "metadata": {},
   "outputs": [],
   "source": [
    "for i in cluster__:\n",
    "    kMeans2=cluster.KMeans(n_clusters=i)\n",
    "    kMeans2.fit(df[['score','income']])\n",
    "    wcss.append(kMeans2.inertia_)"
   ]
  },
  {
   "cell_type": "code",
   "execution_count": 32,
   "id": "97d608e6",
   "metadata": {},
   "outputs": [
    {
     "data": {
      "text/plain": [
       "[<matplotlib.lines.Line2D at 0x19628ea6c50>]"
      ]
     },
     "execution_count": 32,
     "metadata": {},
     "output_type": "execute_result"
    },
    {
     "data": {
      "image/png": "[encoded data removed]",
      "text/plain": [
       "<Figure size 1080x576 with 1 Axes>"
      ]
     },
     "metadata": {
      "needs_background": "light"
     },
     "output_type": "display_data"
    }
   ],
   "source": [
    "plt.figure(figsize=(15,8))\n",
    "plt.title('Elbow Method')\n",
    "plt.plot(cluster__,wcss)"
   ]
  },
  {
   "cell_type": "markdown",
   "id": "3e18212b",
   "metadata": {},
   "source": [
    "# for get this number using kNeed Methods"
   ]
  },
  {
   "cell_type": "code",
   "execution_count": 33,
   "id": "54d2186b",
   "metadata": {},
   "outputs": [
    {
     "name": "stdout",
     "output_type": "stream",
     "text": [
      "Requirement already satisfied: kneed in c:\\users\\youtech bd\\appdata\\local\\programs\\python\\python310\\lib\\site-packages (0.7.0)\n",
      "Requirement already satisfied: numpy>=1.14.2 in c:\\users\\youtech bd\\appdata\\local\\programs\\python\\python310\\lib\\site-packages (from kneed) (1.22.4)\n",
      "Requirement already satisfied: matplotlib in c:\\users\\youtech bd\\appdata\\local\\programs\\python\\python310\\lib\\site-packages (from kneed) (3.5.2)\n",
      "Requirement already satisfied: scipy in c:\\users\\youtech bd\\appdata\\local\\programs\\python\\python310\\lib\\site-packages (from kneed) (1.8.1)\n",
      "Requirement already satisfied: kiwisolver>=1.0.1 in c:\\users\\youtech bd\\appdata\\local\\programs\\python\\python310\\lib\\site-packages (from matplotlib->kneed) (1.4.2)\n",
      "Requirement already satisfied: fonttools>=4.22.0 in c:\\users\\youtech bd\\appdata\\local\\programs\\python\\python310\\lib\\site-packages (from matplotlib->kneed) (4.33.3)\n",
      "Requirement already satisfied: pyparsing>=2.2.1 in c:\\users\\youtech bd\\appdata\\local\\programs\\python\\python310\\lib\\site-packages (from matplotlib->kneed) (3.0.9)\n",
      "Requirement already satisfied: pillow>=6.2.0 in c:\\users\\youtech bd\\appdata\\local\\programs\\python\\python310\\lib\\site-packages (from matplotlib->kneed) (9.1.1)\n",
      "Requirement already satisfied: python-dateutil>=2.7 in c:\\users\\youtech bd\\appdata\\local\\programs\\python\\python310\\lib\\site-packages (from matplotlib->kneed) (2.8.2)\n",
      "Requirement already satisfied: cycler>=0.10 in c:\\users\\youtech bd\\appdata\\local\\programs\\python\\python310\\lib\\site-packages (from matplotlib->kneed) (0.11.0)\n",
      "Requirement already satisfied: packaging>=20.0 in c:\\users\\youtech bd\\appdata\\local\\programs\\python\\python310\\lib\\site-packages (from matplotlib->kneed) (21.3)\n",
      "Requirement already satisfied: six>=1.5 in c:\\users\\youtech bd\\appdata\\local\\programs\\python\\python310\\lib\\site-packages (from python-dateutil>=2.7->matplotlib->kneed) (1.16.0)\n",
      "\n",
      "[notice] A new release of pip available: 22.1.2 -> 22.2\n",
      "[notice] To update, run: python.exe -m pip install --upgrade pip\n"
     ]
    }
   ],
   "source": [
    "!pip install kneed"
   ]
  },
  {
   "cell_type": "code",
   "execution_count": 34,
   "id": "6b25f35f",
   "metadata": {},
   "outputs": [],
   "source": [
    "from kneed import KneeLocator"
   ]
  },
  {
   "cell_type": "code",
   "execution_count": 35,
   "id": "7e9d4d2a",
   "metadata": {},
   "outputs": [],
   "source": [
    "kn=KneeLocator(cluster__,wcss,curve='convex',direction='decreasing')"
   ]
  },
  {
   "cell_type": "code",
   "execution_count": 36,
   "id": "c8d231fb",
   "metadata": {},
   "outputs": [
    {
     "data": {
      "text/plain": [
       "<kneed.knee_locator.KneeLocator at 0x196292f4850>"
      ]
     },
     "execution_count": 36,
     "metadata": {},
     "output_type": "execute_result"
    }
   ],
   "source": [
    "kn"
   ]
  },
  {
   "cell_type": "code",
   "execution_count": 37,
   "id": "0c7be9eb",
   "metadata": {},
   "outputs": [
    {
     "data": {
      "text/plain": [
       "5"
      ]
     },
     "execution_count": 37,
     "metadata": {},
     "output_type": "execute_result"
    }
   ],
   "source": [
    "kn.knee"
   ]
  },
  {
   "cell_type": "code",
   "execution_count": 38,
   "id": "543dd3a6",
   "metadata": {},
   "outputs": [
    {
     "data": {
      "image/png": "[encoded data removed]",
      "text/plain": [
       "<Figure size 432x432 with 1 Axes>"
      ]
     },
     "metadata": {
      "needs_background": "light"
     },
     "output_type": "display_data"
    }
   ],
   "source": [
    "kn.plot_knee()"
   ]
  },
  {
   "cell_type": "markdown",
   "id": "7b4ca500",
   "metadata": {},
   "source": [
    "# After Tuning "
   ]
  },
  {
   "cell_type": "code",
   "execution_count": 39,
   "id": "66f0ab49",
   "metadata": {},
   "outputs": [],
   "source": [
    "k_Means=cluster.KMeans(n_clusters=kn.knee)"
   ]
  },
  {
   "cell_type": "code",
   "execution_count": 40,
   "id": "43095e8d",
   "metadata": {},
   "outputs": [],
   "source": [
    "df['5_clusters']=k_Means.fit_predict(df[['score','income']])"
   ]
  },
  {
   "cell_type": "code",
   "execution_count": 41,
   "id": "02fff607",
   "metadata": {},
   "outputs": [
    {
     "data": {
      "text/html": [
       "<div>\n",
       "<style scoped>\n",
       "    .dataframe tbody tr th:only-of-type {\n",
       "        vertical-align: middle;\n",
       "    }\n",
       "\n",
       "    .dataframe tbody tr th {\n",
       "        vertical-align: top;\n",
       "    }\n",
       "\n",
       "    .dataframe thead th {\n",
       "        text-align: right;\n",
       "    }\n",
       "</style>\n",
       "<table border=\"1\" class=\"dataframe\">\n",
       "  <thead>\n",
       "    <tr style=\"text-align: right;\">\n",
       "      <th></th>\n",
       "      <th>Gender</th>\n",
       "      <th>Age</th>\n",
       "      <th>income</th>\n",
       "      <th>score</th>\n",
       "      <th>8_clusters</th>\n",
       "      <th>5_clusters</th>\n",
       "    </tr>\n",
       "  </thead>\n",
       "  <tbody>\n",
       "    <tr>\n",
       "      <th>0</th>\n",
       "      <td>1</td>\n",
       "      <td>19</td>\n",
       "      <td>15</td>\n",
       "      <td>39</td>\n",
       "      <td>3</td>\n",
       "      <td>4</td>\n",
       "    </tr>\n",
       "    <tr>\n",
       "      <th>1</th>\n",
       "      <td>1</td>\n",
       "      <td>21</td>\n",
       "      <td>15</td>\n",
       "      <td>81</td>\n",
       "      <td>4</td>\n",
       "      <td>3</td>\n",
       "    </tr>\n",
       "    <tr>\n",
       "      <th>2</th>\n",
       "      <td>0</td>\n",
       "      <td>20</td>\n",
       "      <td>16</td>\n",
       "      <td>6</td>\n",
       "      <td>3</td>\n",
       "      <td>4</td>\n",
       "    </tr>\n",
       "    <tr>\n",
       "      <th>3</th>\n",
       "      <td>0</td>\n",
       "      <td>23</td>\n",
       "      <td>16</td>\n",
       "      <td>77</td>\n",
       "      <td>4</td>\n",
       "      <td>3</td>\n",
       "    </tr>\n",
       "    <tr>\n",
       "      <th>4</th>\n",
       "      <td>0</td>\n",
       "      <td>31</td>\n",
       "      <td>17</td>\n",
       "      <td>40</td>\n",
       "      <td>3</td>\n",
       "      <td>4</td>\n",
       "    </tr>\n",
       "  </tbody>\n",
       "</table>\n",
       "</div>"
      ],
      "text/plain": [
       "   Gender  Age  income  score  8_clusters  5_clusters\n",
       "0       1   19      15     39           3           4\n",
       "1       1   21      15     81           4           3\n",
       "2       0   20      16      6           3           4\n",
       "3       0   23      16     77           4           3\n",
       "4       0   31      17     40           3           4"
      ]
     },
     "execution_count": 41,
     "metadata": {},
     "output_type": "execute_result"
    }
   ],
   "source": [
    "df.head()"
   ]
  },
  {
   "cell_type": "code",
   "execution_count": 42,
   "id": "1e8568c2",
   "metadata": {},
   "outputs": [],
   "source": [
    "centers_5=k_Means.cluster_centers_"
   ]
  },
  {
   "cell_type": "code",
   "execution_count": 43,
   "id": "647b6d04",
   "metadata": {},
   "outputs": [],
   "source": [
    "df0=df[df['5_clusters']==0]\n",
    "df1=df[df['5_clusters']==1]\n",
    "df2=df[df['5_clusters']==2]\n",
    "df3=df[df['5_clusters']==3]\n",
    "df4=df[df['5_clusters']==4]"
   ]
  },
  {
   "cell_type": "code",
   "execution_count": 44,
   "id": "565e4fc9",
   "metadata": {},
   "outputs": [
    {
     "data": {
      "text/plain": [
       "<matplotlib.legend.Legend at 0x1962a3e64d0>"
      ]
     },
     "execution_count": 44,
     "metadata": {},
     "output_type": "execute_result"
    },
    {
     "data": {
      "image/png": "[encoded data removed]",
      "text/plain": [
       "<Figure size 864x576 with 1 Axes>"
      ]
     },
     "metadata": {
      "needs_background": "light"
     },
     "output_type": "display_data"
    }
   ],
   "source": [
    "plt.figure(figsize=(12,8))\n",
    "plt.scatter(df0['score'],df0['income'],color='red',label='cluster 0')\n",
    "plt.scatter(df1['score'],df1['income'],color='green',label='cluster 1')\n",
    "plt.scatter(df2['score'],df2['income'],color='blue',label='cluster 2')\n",
    "plt.scatter(df3['score'],df3['income'],color='pink',label='cluster 3')\n",
    "plt.scatter(df4['score'],df4['income'],color='yellow',label='cluster 4')\n",
    "plt.scatter(centers_5[:,0],centers_5[:,1],color='black',marker='+')\n",
    "plt.legend()"
   ]
  },
  {
   "cell_type": "code",
   "execution_count": null,
   "id": "c9e3f9ca",
   "metadata": {},
   "outputs": [],
   "source": []
  }
 ],
 "metadata": {
  "kernelspec": {
   "display_name": "Python 3 (ipykernel)",
   "language": "python",
   "name": "python3"
  },
  "language_info": {
   "codemirror_mode": {
    "name": "ipython",
    "version": 3
   },
   "file_extension": ".py",
   "mimetype": "text/x-python",
   "name": "python",
   "nbconvert_exporter": "python",
   "pygments_lexer": "ipython3",
   "version": "3.10.4"
  }
 },
 "nbformat": 4,
 "nbformat_minor": 5
}
